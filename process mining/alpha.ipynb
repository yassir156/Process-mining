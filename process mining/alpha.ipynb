{
 "cells": [
  {
   "cell_type": "code",
   "execution_count": 12,
   "metadata": {},
   "outputs": [
    {
     "name": "stdout",
     "output_type": "stream",
     "text": [
      "Case 1: ['A', 'B']\n",
      "Case 2: ['A', 'C']\n",
      "Case 3: ['A', 'B', 'C']\n",
      "Case 4: ['A']\n",
      "Tableau de fréquence :\n",
      "A->B: 1 fois\n",
      "A->C: 1 fois\n",
      "A->B->C: 1 fois\n",
      "A: 1 fois\n",
      "\n",
      "Relations de causalité :\n",
      "A->B: 2 fois\n",
      "A->C: 1 fois\n",
      "B->C: 1 fois\n"
     ]
    }
   ],
   "source": [
    "import pandas as pd\n",
    "from collections import defaultdict\n",
    "\n",
    "# Exemple de données d'événements (à remplacer par vos propres données)\n",
    "data = {\n",
    "    'CaseID': [1, 1, 2, 2, 3, 3, 3, 4],\n",
    "    'Activity': ['A', 'B', 'A', 'C', 'A', 'B', 'C', 'A'],\n",
    "    'Timestamp': ['2023-01-01 10:00:00', '2023-01-01 11:00:00', '2023-01-02 09:00:00', '2023-01-02 10:00:00',\n",
    "                   '2023-01-03 08:00:00', '2023-01-03 09:00:00', '2023-01-03 10:00:00', '2023-01-04 08:00:00']\n",
    "}\n",
    "\n",
    "df = pd.DataFrame(data)\n",
    "df['Timestamp'] = pd.to_datetime(df['Timestamp'])\n",
    "\n",
    "# Tri des événements par CaseID et Timestamp\n",
    "df.sort_values(['CaseID', 'Timestamp'], inplace=True)\n",
    "\n",
    "# Construction du tableau de fréquence\n",
    "frequency_table = defaultdict(int)\n",
    "for case_id, group in df.groupby('CaseID')['Activity']:\n",
    "    sequence = '->'.join(group.tolist())\n",
    "    print(f\"Case {case_id}: {group.tolist()}\")\n",
    "    frequency_table[sequence] += 1\n",
    "\n",
    "# Affichage du tableau de fréquence\n",
    "print(\"Tableau de fréquence :\")\n",
    "for sequence, frequency in frequency_table.items():\n",
    "    print(f\"{sequence}: {frequency} fois\")\n",
    "\n",
    "# Identification des relations de causalité\n",
    "causal_relations = defaultdict(int)\n",
    "for sequence, frequency in frequency_table.items():\n",
    "    activities = sequence.split('->')\n",
    "    for i in range(len(activities) - 1):\n",
    "        causal_relations[f\"{activities[i]}->{activities[i+1]}\"] += frequency\n",
    "        \n",
    "\n",
    "# Affichage des relations de causalité\n",
    "print(\"\\nRelations de causalité :\")\n",
    "for relation, frequency in causal_relations.items():\n",
    "    print(f\"{relation}: {frequency} fois\")\n"
   ]
  },
  {
   "cell_type": "code",
   "execution_count": 14,
   "metadata": {},
   "outputs": [
    {
     "name": "stdout",
     "output_type": "stream",
     "text": [
      "Tableau de fréquence :\n",
      "A->B: 1 fois\n",
      "A->C: 1 fois\n",
      "A->B->C: 1 fois\n",
      "A: 1 fois\n",
      "\n",
      "Relations de causalité avec gestion du temps :\n",
      "A->B: Weight - 0.0005555555555555556\n",
      "A->C: Weight - 0.0002777777777777778\n",
      "B->C: Weight - 0.0002777777777777778\n"
     ]
    }
   ],
   "source": [
    "import pandas as pd\n",
    "from collections import defaultdict\n",
    "\n",
    "# Exemple de données d'événements (à remplacer par vos propres données)\n",
    "data = {\n",
    "    'CaseID': [1, 1, 2, 2, 3, 3, 3, 4],\n",
    "    'Activity': ['A', 'B', 'A', 'C', 'A', 'B', 'C', 'A'],\n",
    "    'Timestamp': ['2023-01-01 10:00:00', '2023-01-01 11:00:00', '2023-01-02 09:00:00', '2023-01-02 10:00:00',\n",
    "                   '2023-01-03 08:00:00', '2023-01-03 09:00:00', '2023-01-03 10:00:00', '2023-01-04 08:00:00']\n",
    "}\n",
    "\n",
    "df = pd.DataFrame(data)\n",
    "df['Timestamp'] = pd.to_datetime(df['Timestamp'])\n",
    "\n",
    "# Tri des événements par CaseID et Timestamp\n",
    "df.sort_values(['CaseID', 'Timestamp'], inplace=True)\n",
    "\n",
    "# Construction du tableau de fréquence\n",
    "frequency_table = defaultdict(int)\n",
    "for case_id, group in df.groupby('CaseID'):\n",
    "    sequence = '->'.join(group['Activity'].tolist())\n",
    "    frequency_table[sequence] += 1\n",
    "\n",
    "# Affichage du tableau de fréquence\n",
    "print(\"Tableau de fréquence :\")\n",
    "for sequence, frequency in frequency_table.items():\n",
    "    print(f\"{sequence}: {frequency} fois\")\n",
    "\n",
    "# Identification des relations de causalité avec gestion du temps\n",
    "causal_relations = defaultdict(int)\n",
    "for case_id, group in df.groupby('CaseID'):\n",
    "    activities = group['Activity'].tolist()\n",
    "    timestamps = group['Timestamp'].tolist()\n",
    "\n",
    "    for i in range(len(activities) - 1):\n",
    "        time_difference = (timestamps[i + 1] - timestamps[i]).total_seconds()\n",
    "        causal_relations[f\"{activities[i]}->{activities[i+1]}\"] += 1 / time_difference if time_difference != 0 else 0\n",
    "\n",
    "# Affichage des relations de causalité avec gestion du temps\n",
    "print(\"\\nRelations de causalité avec gestion du temps :\")\n",
    "for relation, weight in causal_relations.items():\n",
    "    print(f\"{relation}: Weight - {weight}\")\n",
    "\n"
   ]
  },
  {
   "cell_type": "code",
   "execution_count": null,
   "metadata": {},
   "outputs": [],
   "source": []
  }
 ],
 "metadata": {
  "kernelspec": {
   "display_name": "IA_project",
   "language": "python",
   "name": "python3"
  },
  "language_info": {
   "codemirror_mode": {
    "name": "ipython",
    "version": 3
   },
   "file_extension": ".py",
   "mimetype": "text/x-python",
   "name": "python",
   "nbconvert_exporter": "python",
   "pygments_lexer": "ipython3",
   "version": "3.11.3"
  }
 },
 "nbformat": 4,
 "nbformat_minor": 2
}
